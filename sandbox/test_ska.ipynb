{
 "cells": [
  {
   "cell_type": "code",
   "execution_count": 6,
   "metadata": {},
   "outputs": [],
   "source": [
    "import io\n",
    "import os\n",
    "import sys\n",
    "from importlib import reload \n",
    "\n",
    "import numpy as np\n",
    "import matplotlib.pyplot as plt\n",
    "import pandas as pd\n",
    "\n",
    "import requests\n",
    "from astropy.io.votable import parse\n",
    "\n",
    "# from astropy.io.votable import parse_single_table"
   ]
  },
  {
   "cell_type": "code",
   "execution_count": null,
   "metadata": {},
   "outputs": [],
   "source": []
  },
  {
   "cell_type": "code",
   "execution_count": 1,
   "metadata": {},
   "outputs": [],
   "source": [
    "import ska\n",
    "import ska.tools as skatools"
   ]
  },
  {
   "cell_type": "code",
   "execution_count": 5,
   "metadata": {},
   "outputs": [
    {
     "data": {
      "text/plain": [
       "dtype('float64')"
      ]
     },
     "execution_count": 5,
     "metadata": {},
     "output_type": "execute_result"
    }
   ],
   "source": [
    "sun = ska.Spectrum()\n",
    "sun.from_csv('sun.csv')\n",
    "sun.Wavelength#.dtype"
   ]
  },
  {
   "cell_type": "code",
   "execution_count": 8,
   "metadata": {},
   "outputs": [
    {
     "data": {
      "text/plain": [
       "array([0.435 , 0.4375, 0.44  , 0.4425, 0.445 , 0.4475, 0.45  , 0.4525,\n",
       "       0.455 , 0.4575, 0.46  , 0.4625, 0.465 , 0.4675, 0.47  , 0.4725,\n",
       "       0.475 , 0.4775, 0.48  , 0.4825, 0.485 , 0.4875, 0.49  , 0.4925,\n",
       "       0.495 , 0.4975, 0.5   , 0.5025, 0.505 , 0.5075, 0.51  , 0.5125,\n",
       "       0.515 , 0.5175, 0.52  , 0.5225, 0.525 , 0.5275, 0.53  , 0.5325,\n",
       "       0.535 , 0.5375, 0.54  , 0.5425, 0.545 , 0.5475, 0.55  , 0.5525,\n",
       "       0.555 , 0.5575, 0.56  , 0.5625, 0.565 , 0.5675, 0.57  , 0.5725,\n",
       "       0.575 , 0.5775, 0.58  , 0.5825, 0.585 , 0.5875, 0.59  , 0.5925,\n",
       "       0.595 , 0.5975, 0.6   , 0.6025, 0.605 , 0.6075, 0.61  , 0.6125,\n",
       "       0.615 , 0.6175, 0.62  , 0.6225, 0.625 , 0.6275, 0.63  , 0.6325,\n",
       "       0.635 , 0.6375, 0.64  , 0.6425, 0.645 , 0.6475, 0.65  , 0.6525,\n",
       "       0.655 , 0.6575, 0.66  , 0.6625, 0.665 , 0.6675, 0.67  , 0.6725,\n",
       "       0.675 , 0.6775, 0.68  , 0.6825, 0.685 , 0.6875, 0.69  , 0.6925,\n",
       "       0.695 , 0.6975, 0.7   , 0.7025, 0.705 , 0.7075, 0.71  , 0.7125,\n",
       "       0.715 , 0.7175, 0.72  , 0.7225, 0.725 , 0.7275, 0.73  , 0.7325,\n",
       "       0.735 , 0.7375, 0.74  , 0.7425, 0.745 , 0.7475, 0.75  , 0.7525,\n",
       "       0.755 , 0.77  , 0.7725, 0.775 , 0.7775, 0.78  , 0.7825, 0.785 ,\n",
       "       0.7875, 0.79  , 0.7925, 0.795 , 0.7975, 0.8   , 0.8025, 0.805 ,\n",
       "       0.8075, 0.81  , 0.8125, 0.815 , 0.8175, 0.82  , 0.8225, 0.825 ,\n",
       "       0.8275, 0.83  , 0.8325, 0.835 , 0.8375, 0.84  , 0.8425, 0.845 ,\n",
       "       0.8475, 0.85  , 0.8525, 0.855 , 0.8575, 0.86  , 0.8625, 0.865 ,\n",
       "       0.8675, 0.87  , 0.8725, 0.875 , 0.8775, 0.88  , 0.8825, 0.885 ,\n",
       "       0.8875, 0.89  , 0.8925, 0.895 , 0.8975, 0.9   , 0.9025, 0.905 ,\n",
       "       0.9075, 0.91  , 0.9125, 0.915 , 0.9175, 0.92  , 0.9225, 0.925 ,\n",
       "       0.82  , 0.825 , 0.83  , 0.835 , 0.84  , 0.845 , 0.85  , 0.855 ,\n",
       "       0.86  , 0.865 , 0.87  , 0.875 , 0.88  , 0.885 , 0.89  , 0.895 ,\n",
       "       0.9   , 0.905 , 0.91  , 0.915 , 0.92  , 0.925 , 0.93  , 0.935 ,\n",
       "       0.94  , 0.945 , 0.95  , 0.955 , 0.96  , 0.965 , 0.97  , 0.975 ,\n",
       "       0.98  , 0.985 , 0.99  , 0.995 , 1.    , 1.005 , 1.01  , 1.015 ,\n",
       "       1.02  , 1.025 , 1.03  , 1.035 , 1.04  , 1.045 , 1.05  , 1.055 ,\n",
       "       1.06  , 1.065 , 1.07  , 1.075 , 1.08  , 1.085 , 1.09  , 1.095 ,\n",
       "       1.1   , 1.105 , 1.11  , 1.115 , 1.12  , 1.125 , 1.13  , 1.135 ,\n",
       "       1.14  , 1.145 , 1.15  , 1.155 , 1.16  , 1.165 , 1.17  , 1.175 ,\n",
       "       1.18  , 1.185 , 1.19  , 1.195 , 1.2   , 1.205 , 1.21  , 1.215 ,\n",
       "       1.22  , 1.225 , 1.23  , 1.235 , 1.24  , 1.245 , 1.25  , 1.255 ,\n",
       "       1.26  , 1.265 , 1.27  , 1.275 , 1.28  , 1.285 , 1.29  , 1.295 ,\n",
       "       1.3   , 1.305 , 1.31  , 1.315 , 1.32  , 1.325 , 1.33  , 1.335 ,\n",
       "       1.34  , 1.345 , 1.35  , 1.355 , 1.36  , 1.365 , 1.37  , 1.375 ,\n",
       "       1.38  , 1.385 , 1.39  , 1.395 , 1.4   , 1.405 , 1.41  , 1.415 ,\n",
       "       1.42  , 1.425 , 1.43  , 1.435 , 1.44  , 1.445 , 1.45  , 1.455 ,\n",
       "       1.46  , 1.465 , 1.47  , 1.475 , 1.48  , 1.485 , 1.49  , 1.495 ,\n",
       "       1.5   , 1.505 , 1.51  , 1.515 , 1.52  , 1.525 , 1.53  , 1.535 ,\n",
       "       1.54  , 1.545 , 1.55  , 1.555 , 1.56  , 1.565 , 1.57  , 1.575 ,\n",
       "       1.58  , 1.585 , 1.59  , 1.595 , 1.6   , 1.605 , 1.61  , 1.615 ,\n",
       "       1.62  , 1.625 , 1.63  , 1.635 , 1.64  , 1.645 , 1.65  , 1.655 ,\n",
       "       1.66  , 1.665 , 1.67  , 1.675 , 1.68  , 1.685 , 1.69  , 1.695 ,\n",
       "       1.7   , 1.705 , 1.71  , 1.715 , 1.72  , 1.725 , 1.73  , 1.735 ,\n",
       "       1.74  , 1.745 , 1.75  , 1.755 , 1.76  , 1.765 , 1.77  , 1.775 ,\n",
       "       1.78  , 1.785 , 1.79  , 1.795 , 1.8   , 1.805 , 1.81  , 1.815 ,\n",
       "       1.82  , 1.825 , 1.83  , 1.835 , 1.84  , 1.845 , 1.85  , 1.855 ,\n",
       "       1.86  , 1.865 , 1.87  , 1.875 , 1.88  , 1.885 , 1.89  , 1.895 ,\n",
       "       1.9   , 1.905 , 1.91  , 1.915 , 1.92  , 1.925 , 1.93  , 1.935 ,\n",
       "       1.94  , 1.945 , 1.95  , 1.955 , 1.96  , 1.965 , 1.97  , 1.975 ,\n",
       "       1.98  , 1.985 , 1.99  , 1.995 , 2.    , 2.005 , 2.01  , 2.015 ,\n",
       "       2.02  , 2.025 , 2.03  , 2.035 , 2.04  , 2.045 , 2.05  , 2.055 ,\n",
       "       2.06  , 2.065 , 2.07  , 2.075 , 2.08  , 2.085 , 2.09  , 2.095 ,\n",
       "       2.1   , 2.105 , 2.11  , 2.115 , 2.12  , 2.125 , 2.13  , 2.135 ,\n",
       "       2.14  , 2.145 , 2.15  , 2.155 , 2.16  , 2.165 , 2.17  , 2.175 ,\n",
       "       2.18  , 2.185 , 2.19  , 2.195 , 2.2   , 2.205 , 2.21  , 2.215 ,\n",
       "       2.22  , 2.225 , 2.23  , 2.235 , 2.24  , 2.245 , 2.25  , 2.255 ,\n",
       "       2.26  , 2.265 , 2.27  , 2.275 , 2.28  , 2.285 , 2.29  , 2.295 ,\n",
       "       2.3   , 2.305 , 2.31  , 2.315 , 2.32  , 2.325 , 2.33  , 2.335 ,\n",
       "       2.34  , 2.345 , 2.35  , 2.355 , 2.36  , 2.365 , 2.37  , 2.375 ,\n",
       "       2.38  , 2.385 , 2.39  , 2.395 , 2.4   , 2.405 , 2.41  , 2.415 ,\n",
       "       2.42  , 2.425 , 2.43  , 2.435 , 2.44  , 2.445 , 2.45  , 2.455 ,\n",
       "       2.46  , 2.465 , 2.47  , 2.475 , 2.48  , 2.485 , 2.49  ])"
      ]
     },
     "execution_count": 8,
     "metadata": {},
     "output_type": "execute_result"
    }
   ],
   "source": [
    "sun = ska.Spectrum('ceres.csv')\n",
    "sun.Wavelength#.dtype"
   ]
  },
  {
   "cell_type": "code",
   "execution_count": 9,
   "metadata": {},
   "outputs": [
    {
     "data": {
      "text/plain": [
       "array([0.435 , 0.4375, 0.44  , 0.4425, 0.445 , 0.4475, 0.45  , 0.4525,\n",
       "       0.455 , 0.4575, 0.46  , 0.4625, 0.465 , 0.4675, 0.47  , 0.4725,\n",
       "       0.475 , 0.4775, 0.48  , 0.4825, 0.485 , 0.4875, 0.49  , 0.4925,\n",
       "       0.495 , 0.4975, 0.5   , 0.5025, 0.505 , 0.5075, 0.51  , 0.5125,\n",
       "       0.515 , 0.5175, 0.52  , 0.5225, 0.525 , 0.5275, 0.53  , 0.5325,\n",
       "       0.535 , 0.5375, 0.54  , 0.5425, 0.545 , 0.5475, 0.55  , 0.5525,\n",
       "       0.555 , 0.5575, 0.56  , 0.5625, 0.565 , 0.5675, 0.57  , 0.5725,\n",
       "       0.575 , 0.5775, 0.58  , 0.5825, 0.585 , 0.5875, 0.59  , 0.5925,\n",
       "       0.595 , 0.5975, 0.6   , 0.6025, 0.605 , 0.6075, 0.61  , 0.6125,\n",
       "       0.615 , 0.6175, 0.62  , 0.6225, 0.625 , 0.6275, 0.63  , 0.6325,\n",
       "       0.635 , 0.6375, 0.64  , 0.6425, 0.645 , 0.6475, 0.65  , 0.6525,\n",
       "       0.655 , 0.6575, 0.66  , 0.6625, 0.665 , 0.6675, 0.67  , 0.6725,\n",
       "       0.675 , 0.6775, 0.68  , 0.6825, 0.685 , 0.6875, 0.69  , 0.6925,\n",
       "       0.695 , 0.6975, 0.7   , 0.7025, 0.705 , 0.7075, 0.71  , 0.7125,\n",
       "       0.715 , 0.7175, 0.72  , 0.7225, 0.725 , 0.7275, 0.73  , 0.7325,\n",
       "       0.735 , 0.7375, 0.74  , 0.7425, 0.745 , 0.7475, 0.75  , 0.7525,\n",
       "       0.755 , 0.77  , 0.7725, 0.775 , 0.7775, 0.78  , 0.7825, 0.785 ,\n",
       "       0.7875, 0.79  , 0.7925, 0.795 , 0.7975, 0.8   , 0.8025, 0.805 ,\n",
       "       0.8075, 0.81  , 0.8125, 0.815 , 0.8175, 0.82  , 0.8225, 0.825 ,\n",
       "       0.8275, 0.83  , 0.8325, 0.835 , 0.8375, 0.84  , 0.8425, 0.845 ,\n",
       "       0.8475, 0.85  , 0.8525, 0.855 , 0.8575, 0.86  , 0.8625, 0.865 ,\n",
       "       0.8675, 0.87  , 0.8725, 0.875 , 0.8775, 0.88  , 0.8825, 0.885 ,\n",
       "       0.8875, 0.89  , 0.8925, 0.895 , 0.8975, 0.9   , 0.9025, 0.905 ,\n",
       "       0.9075, 0.91  , 0.9125, 0.915 , 0.9175, 0.92  , 0.9225, 0.925 ,\n",
       "       0.82  , 0.825 , 0.83  , 0.835 , 0.84  , 0.845 , 0.85  , 0.855 ,\n",
       "       0.86  , 0.865 , 0.87  , 0.875 , 0.88  , 0.885 , 0.89  , 0.895 ,\n",
       "       0.9   , 0.905 , 0.91  , 0.915 , 0.92  , 0.925 , 0.93  , 0.935 ,\n",
       "       0.94  , 0.945 , 0.95  , 0.955 , 0.96  , 0.965 , 0.97  , 0.975 ,\n",
       "       0.98  , 0.985 , 0.99  , 0.995 , 1.    , 1.005 , 1.01  , 1.015 ,\n",
       "       1.02  , 1.025 , 1.03  , 1.035 , 1.04  , 1.045 , 1.05  , 1.055 ,\n",
       "       1.06  , 1.065 , 1.07  , 1.075 , 1.08  , 1.085 , 1.09  , 1.095 ,\n",
       "       1.1   , 1.105 , 1.11  , 1.115 , 1.12  , 1.125 , 1.13  , 1.135 ,\n",
       "       1.14  , 1.145 , 1.15  , 1.155 , 1.16  , 1.165 , 1.17  , 1.175 ,\n",
       "       1.18  , 1.185 , 1.19  , 1.195 , 1.2   , 1.205 , 1.21  , 1.215 ,\n",
       "       1.22  , 1.225 , 1.23  , 1.235 , 1.24  , 1.245 , 1.25  , 1.255 ,\n",
       "       1.26  , 1.265 , 1.27  , 1.275 , 1.28  , 1.285 , 1.29  , 1.295 ,\n",
       "       1.3   , 1.305 , 1.31  , 1.315 , 1.32  , 1.325 , 1.33  , 1.335 ,\n",
       "       1.34  , 1.345 , 1.35  , 1.355 , 1.36  , 1.365 , 1.37  , 1.375 ,\n",
       "       1.38  , 1.385 , 1.39  , 1.395 , 1.4   , 1.405 , 1.41  , 1.415 ,\n",
       "       1.42  , 1.425 , 1.43  , 1.435 , 1.44  , 1.445 , 1.45  , 1.455 ,\n",
       "       1.46  , 1.465 , 1.47  , 1.475 , 1.48  , 1.485 , 1.49  , 1.495 ,\n",
       "       1.5   , 1.505 , 1.51  , 1.515 , 1.52  , 1.525 , 1.53  , 1.535 ,\n",
       "       1.54  , 1.545 , 1.55  , 1.555 , 1.56  , 1.565 , 1.57  , 1.575 ,\n",
       "       1.58  , 1.585 , 1.59  , 1.595 , 1.6   , 1.605 , 1.61  , 1.615 ,\n",
       "       1.62  , 1.625 , 1.63  , 1.635 , 1.64  , 1.645 , 1.65  , 1.655 ,\n",
       "       1.66  , 1.665 , 1.67  , 1.675 , 1.68  , 1.685 , 1.69  , 1.695 ,\n",
       "       1.7   , 1.705 , 1.71  , 1.715 , 1.72  , 1.725 , 1.73  , 1.735 ,\n",
       "       1.74  , 1.745 , 1.75  , 1.755 , 1.76  , 1.765 , 1.77  , 1.775 ,\n",
       "       1.78  , 1.785 , 1.79  , 1.795 , 1.8   , 1.805 , 1.81  , 1.815 ,\n",
       "       1.82  , 1.825 , 1.83  , 1.835 , 1.84  , 1.845 , 1.85  , 1.855 ,\n",
       "       1.86  , 1.865 , 1.87  , 1.875 , 1.88  , 1.885 , 1.89  , 1.895 ,\n",
       "       1.9   , 1.905 , 1.91  , 1.915 , 1.92  , 1.925 , 1.93  , 1.935 ,\n",
       "       1.94  , 1.945 , 1.95  , 1.955 , 1.96  , 1.965 , 1.97  , 1.975 ,\n",
       "       1.98  , 1.985 , 1.99  , 1.995 , 2.    , 2.005 , 2.01  , 2.015 ,\n",
       "       2.02  , 2.025 , 2.03  , 2.035 , 2.04  , 2.045 , 2.05  , 2.055 ,\n",
       "       2.06  , 2.065 , 2.07  , 2.075 , 2.08  , 2.085 , 2.09  , 2.095 ,\n",
       "       2.1   , 2.105 , 2.11  , 2.115 , 2.12  , 2.125 , 2.13  , 2.135 ,\n",
       "       2.14  , 2.145 , 2.15  , 2.155 , 2.16  , 2.165 , 2.17  , 2.175 ,\n",
       "       2.18  , 2.185 , 2.19  , 2.195 , 2.2   , 2.205 , 2.21  , 2.215 ,\n",
       "       2.22  , 2.225 , 2.23  , 2.235 , 2.24  , 2.245 , 2.25  , 2.255 ,\n",
       "       2.26  , 2.265 , 2.27  , 2.275 , 2.28  , 2.285 , 2.29  , 2.295 ,\n",
       "       2.3   , 2.305 , 2.31  , 2.315 , 2.32  , 2.325 , 2.33  , 2.335 ,\n",
       "       2.34  , 2.345 , 2.35  , 2.355 , 2.36  , 2.365 , 2.37  , 2.375 ,\n",
       "       2.38  , 2.385 , 2.39  , 2.395 , 2.4   , 2.405 , 2.41  , 2.415 ,\n",
       "       2.42  , 2.425 , 2.43  , 2.435 , 2.44  , 2.445 , 2.45  , 2.455 ,\n",
       "       2.46  , 2.465 , 2.47  , 2.475 , 2.48  , 2.485 , 2.49  ])"
      ]
     },
     "execution_count": 9,
     "metadata": {},
     "output_type": "execute_result"
    }
   ],
   "source": [
    "sun.Wavelength"
   ]
  },
  {
   "cell_type": "code",
   "execution_count": 10,
   "metadata": {},
   "outputs": [
    {
     "data": {
      "image/png": "[encoded data removed]",
      "text/plain": [
       "<Figure size 640x480 with 1 Axes>"
      ]
     },
     "metadata": {},
     "output_type": "display_data"
    }
   ],
   "source": [
    "fig, ax = plt.subplots()\n",
    "\n",
    "\n",
    "ax.plot(sun.Wavelength, sun.Flux, label='Sun')\n",
    "\n",
    "# ax.plot( H.wave, H.trans, label='H')\n",
    "# ax.plot( K.wave, K.trans, label='H')\n",
    "\n",
    "ax.set_xlabel('Wavelength (nm)')\n",
    "ax.set_ylabel('Flux (W/m^2/nm)')\n",
    "ax.set_title('Solar Spectrum')\n",
    "ax.legend()\n",
    "ax.set_xscale('log')\n",
    "ax.set_yscale('log')"
   ]
  },
  {
   "cell_type": "code",
   "execution_count": null,
   "metadata": {},
   "outputs": [],
   "source": [
    "sun = pd.read_csv(ska.PATH_SUN)\n",
    "# sun.Wavelength /= 10000\n",
    "sun.head(5)\n"
   ]
  },
  {
   "cell_type": "code",
   "execution_count": 11,
   "metadata": {},
   "outputs": [],
   "source": [
    "V = ska.Filter('Generic/Johnson.V')\n",
    "H = ska.Filter('Paranal/VISTA.H')\n",
    "K = ska.Filter('Paranal/VISTA.Ks')\n",
    "J = ska.Filter('2MASS/2MASS.J')"
   ]
  },
  {
   "cell_type": "code",
   "execution_count": null,
   "metadata": {},
   "outputs": [],
   "source": []
  },
  {
   "cell_type": "code",
   "execution_count": null,
   "metadata": {},
   "outputs": [],
   "source": [
    "fig, ax = plt.subplots()\n",
    "\n",
    "\n",
    "ax.plot(sun.Wavelength, sun.Flux, label='Sun')\n",
    "\n",
    "ax.plot( H.wave, H.trans, label='H')\n",
    "ax.plot( K.wave, K.trans, label='H')\n",
    "\n",
    "ax.set_xlabel('Wavelength (nm)')\n",
    "ax.set_ylabel('Flux (W/m^2/nm)')\n",
    "ax.set_title('Solar Spectrum')\n",
    "ax.legend()\n",
    "ax.set_xscale('log')\n",
    "ax.set_yscale('log')"
   ]
  },
  {
   "cell_type": "code",
   "execution_count": 12,
   "metadata": {},
   "outputs": [
    {
     "data": {
      "text/plain": [
       "(0.9775131455261331, 0.9989707674492199)"
      ]
     },
     "execution_count": 12,
     "metadata": {},
     "output_type": "execute_result"
    }
   ],
   "source": [
    "H.compute_flux( sun ),  V.compute_flux( sun )"
   ]
  },
  {
   "cell_type": "code",
   "execution_count": null,
   "metadata": {},
   "outputs": [],
   "source": [
    "        # Main SVO filter list\n",
    "        r = requests.get(\n",
    "            \"https://svo.cab.inta-csic.es/files/svo/Public/HowTo/FPS/FPS_info.xml\"\n",
    "        )\n",
    "        SVOFilters = parse(io.BytesIO(r.content))\n",
    "        main_id = SVOFilters.get_first_table().to_table().to_pandas().filterID.to_list()\n",
    "        \n",
    "        # Secondary SVO filter list\n",
    "        r = requests.get(\n",
    "            \"https://svo.cab.inta-csic.es/files/svo/Public/HowTo/FPS/others.xml\"\n",
    "        )\n",
    "        SVOFilters = parse(io.BytesIO(r.content))\n",
    "        other_id = SVOFilters.get_first_table().to_table().to_pandas()['__ID'].to_list()\n",
    "\n",
    "        # Merge and Write to disk\n",
    "        filter_id = main_id + other_id\n",
    "        with open(ska.PATH_FILTER_LIST, \"w\") as file:\n",
    "            for f in filter_id:\n",
    "                file.write(f\"{f}\\n\")\n"
   ]
  },
  {
   "cell_type": "code",
   "execution_count": null,
   "metadata": {},
   "outputs": [],
   "source": [
    "main_info.filterID.to_list()\n",
    "other_info.filterID.to_list()\n",
    "\n",
    "filter_info = main_info.filterID.to_list() + other_info.filterID.to_list()\n",
    "\n",
    "print(len(filter_info), len(main_info), len(other_info))\n",
    "filter_info"
   ]
  },
  {
   "cell_type": "code",
   "execution_count": null,
   "metadata": {},
   "outputs": [],
   "source": []
  },
  {
   "cell_type": "code",
   "execution_count": null,
   "metadata": {},
   "outputs": [],
   "source": []
  },
  {
   "cell_type": "code",
   "execution_count": null,
   "metadata": {},
   "outputs": [],
   "source": [
    "skatools.compute_color( sun, V, H, phot_sys='AB')"
   ]
  },
  {
   "cell_type": "code",
   "execution_count": null,
   "metadata": {},
   "outputs": [],
   "source": [
    "skatools.compute_color( sun, V, H, phot_sys='Vega')"
   ]
  },
  {
   "cell_type": "code",
   "execution_count": null,
   "metadata": {},
   "outputs": [],
   "source": [
    "df = pd.read_fwf('a000001.sp41.txt', header=None)\n",
    "df.columns = ['wave', 'reflec', 'unc', 'flag']"
   ]
  },
  {
   "cell_type": "code",
   "execution_count": null,
   "metadata": {},
   "outputs": [],
   "source": [
    "df"
   ]
  },
  {
   "cell_type": "code",
   "execution_count": null,
   "metadata": {},
   "outputs": [],
   "source": [
    "df.to_csv('ceres.csv', index=False)"
   ]
  },
  {
   "cell_type": "code",
   "execution_count": null,
   "metadata": {},
   "outputs": [],
   "source": []
  }
 ],
 "metadata": {
  "kernelspec": {
   "display_name": "dev_ska",
   "language": "python",
   "name": "python3"
  },
  "language_info": {
   "codemirror_mode": {
    "name": "ipython",
    "version": 3
   },
   "file_extension": ".py",
   "mimetype": "text/x-python",
   "name": "python",
   "nbconvert_exporter": "python",
   "pygments_lexer": "ipython3",
   "version": "3.12.2"
  }
 },
 "nbformat": 4,
 "nbformat_minor": 2
}
